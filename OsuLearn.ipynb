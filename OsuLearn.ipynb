{
 "cells": [
  {
   "cell_type": "markdown",
   "metadata": {},
   "source": [
    "# OsuLearn\n",
    "##### Machine Learning para jogar mapas de osu!\n",
    "\n",
    "^^^\n",
    "\n",
    "Isso aí, tô sem mais nada pra fazer, bora criar uma IA que joga osu! )o)"
   ]
  },
  {
   "cell_type": "markdown",
   "metadata": {},
   "source": [
    "## Importar umas coisas..."
   ]
  },
  {
   "cell_type": "code",
   "execution_count": 1,
   "metadata": {},
   "outputs": [
    {
     "name": "stderr",
     "output_type": "stream",
     "text": [
      "c:\\users\\user\\appdata\\local\\programs\\python\\python36\\lib\\site-packages\\h5py\\__init__.py:36: FutureWarning: Conversion of the second argument of issubdtype from `float` to `np.floating` is deprecated. In future, it will be treated as `np.float64 == np.dtype(float).type`.\n",
      "  from ._conv import register_converters as _register_converters\n",
      "Using TensorFlow backend.\n"
     ]
    }
   ],
   "source": [
    "# Machine Learning\n",
    "import tensorflow as tf\n",
    "import keras\n",
    "import numpy as np\n",
    "import pandas as pd\n",
    "\n",
    "# Plotagem\n",
    "import matplotlib.pyplot as plt\n",
    "\n",
    "# Utilidades\n",
    "import os\n",
    "import math"
   ]
  },
  {
   "cell_type": "markdown",
   "metadata": {},
   "source": [
    "## Constantes\n",
    "\n",
    "Aqui tem uns caminhos para os arquivos que precisamos:"
   ]
  },
  {
   "cell_type": "code",
   "execution_count": 2,
   "metadata": {},
   "outputs": [],
   "source": [
    "# Pasta do osu!\n",
    "OSU_FOLDER = \"C:\\\\\" + os.path.join(\"Program Files (x86)\", \"Jogos\", \"osu!\")\n",
    "\n",
    "# Nome do beatmap\n",
    "BEATMAP = os.path.join('499478 Utsu-P - TRAUMATIC', 'Utsu-P - TRAUMATIC (Cryptic) [EXTREME].osu')\n",
    "#BEATMAP = os.path.join('353412 Sakuzyo - Imprinting', 'Sakuzyo - Imprinting (Necroluttah) [Arles AR9.5].osu')\n",
    "\n",
    "# Nome do arquivo de replay\n",
    "REPLAY = 'BzMasked - Utsu-P - TRAUMATIC [EXTREME] (2018-12-17) Osu.osr'\n",
    "#REPLAY = 'BzMasked - Sakuzyo - Imprinting [Arles AR9.5] (2018-12-17) Osu.osr'"
   ]
  },
  {
   "cell_type": "markdown",
   "metadata": {},
   "source": [
    "## Leitura do arquivo de Beatmap\n",
    "\n",
    "O formato do arquivo está especificado no [site do osu!](https://osu.ppy.sh/help/wiki/osu!_File_Formats/Osu_(file_format)/)."
   ]
  },
  {
   "cell_type": "code",
   "execution_count": 3,
   "metadata": {},
   "outputs": [
    {
     "name": "stdout",
     "output_type": "stream",
     "text": [
      "\n",
      "Mapa: 鬱P - TRAUMATIC\n",
      "Autor: Cryptic\n",
      "Dificuldade:  EXTREME\n"
     ]
    }
   ],
   "source": [
    "import osu.beatmap\n",
    "\n",
    "beatmap_filename = os.path.join(OSU_FOLDER, \"Songs\", BEATMAP)\n",
    "beatmap = osu.beatmap.load(beatmap_filename)\n",
    "\n",
    "print()\n",
    "print('Mapa:', beatmap['ArtistUnicode'], '-', beatmap['TitleUnicode'])\n",
    "print('Autor:', beatmap['Creator'])\n",
    "print('Dificuldade: ', beatmap['Version'])"
   ]
  },
  {
   "cell_type": "markdown",
   "metadata": {},
   "source": [
    "## Leitura do arquivo de Replay\n",
    "\n",
    "O formato do arquivo está especificado no [site do osu!](https://osu.ppy.sh/help/wiki/osu!_File_Formats/Osr_(file_format)/)."
   ]
  },
  {
   "cell_type": "code",
   "execution_count": 4,
   "metadata": {},
   "outputs": [],
   "source": [
    "# replay = osu.replay.load(os.path.join(OSU_FOLDER, \"Replays\", REPLAY))"
   ]
  },
  {
   "cell_type": "markdown",
   "metadata": {},
   "source": [
    "## Informações do Replay\n",
    "\n",
    "Legal, carregamos o replay, isso foi o que achamos:"
   ]
  },
  {
   "cell_type": "code",
   "execution_count": null,
   "metadata": {
    "scrolled": true
   },
   "outputs": [],
   "source": [
    "# print()\n",
    "# print(\"Player:\", replay.player)\n",
    "\n",
    "# print()\n",
    "# print(\"Pontuação Total:\", replay.score)\n",
    "# print()\n",
    "# print(\"%5d x 300\\t%5d x 激\" % (replay.n_300s, replay.n_geki))\n",
    "# print(\"%5d x 100\\t%5d x 喝\" % (replay.n_100s, replay.n_katu))\n",
    "# print(\"%5d x 50\\t%5d x Erros\" % (replay.n_50s, replay.n_misses))\n",
    "# print()\n",
    "\n",
    "# print(\"Acurácia: %.2f%%\" % (100 * replay.accuracy))\n",
    "# print(\"Combo Máximo: %dx\" % replay.max_combo, \"(Perfect)\" if replay.perfect else \"\")\n",
    "# print()\n",
    "\n",
    "# %matplotlib inline\n",
    "\n",
    "# u = [int(t[0]) / 1000 for t in replay.life_graph]\n",
    "# v = [float(t[1]) for t in replay.life_graph]\n",
    "\n",
    "# fig = plt.figure(facecolor='#333333')\n",
    "# ax = fig.add_subplot(1, 1, 1)\n",
    "# ax.set_xlim(0, max(u) + 1)\n",
    "# ax.set_ylim(0, 1.1)\n",
    "# ax.axis('off')\n",
    "# ax.plot(u, v, '#ffcc22')\n",
    "# plt.show()"
   ]
  },
  {
   "cell_type": "markdown",
   "metadata": {},
   "source": [
    "## Visualização\n",
    "\n",
    "Aqui temos uma previsualização do replay, também:"
   ]
  },
  {
   "cell_type": "code",
   "execution_count": null,
   "metadata": {},
   "outputs": [],
   "source": [
    "%matplotlib notebook\n",
    "#osu.replay.preview(beatmap, replay)"
   ]
  },
  {
   "cell_type": "markdown",
   "metadata": {},
   "source": [
    "## Dados para treinamento..."
   ]
  },
  {
   "cell_type": "code",
   "execution_count": null,
   "metadata": {},
   "outputs": [
    {
     "name": "stdout",
     "output_type": "stream",
     "text": [
      "BzMasked Aimer with chelly (EGOIST) - ninelie (REDSHiFT x Vesuvia remix) Daydream 2018-06-01\n",
      "\n",
      "BzMasked Aitsuki Nakuru - Monochrome Butterfly Extra 2017-09-09\n",
      "OK\n",
      "\n",
      "BzMasked Aitsuki Nakuru - Monochrome Butterfly Mysterious 2017-08-04\n",
      "\n",
      "BzMasked Alex Gaudino feat. Crystal Waters - Destination Calabria Destination Unknown 2017-11-25\n",
      "\n",
      "BzMasked Alex Gaudino feat. Crystal Waters - Destination Calabria Destination Unknown 2017-12-01\n",
      "\n",
      "BzMasked Ata - Euphoria Juggernaut 285bpm Tap jumps 2017-09-24\n",
      "OK\n",
      "\n",
      "BzMasked Ayase Rie - Yuima-ruWorld TVver. Ultimate 2017-08-14\n",
      "\n",
      "BzMasked Camellia - Exit This Earth's Atomosphere Evolution 2017-08-13\n",
      "\n",
      "BzMasked Camellia - Exit This Earth's Atomosphere Evolution 2018-09-27\n",
      "\n",
      "BzMasked Caravan Palace - Lone Digger Funky 2018-09-28\n",
      "\n",
      "BzMasked Coalamode. - Nanairo Symphony -TV Size- Kaori's Free Spirit 2017-11-19\n",
      "\n",
      "BzMasked Coalamode. - Nanairo Symphony -TV Size- Kaori's Free Spirit 2017-11-20\n",
      "\n",
      "BzMasked DECO27 - Ghost Rule z1085684963's Extra 2018-10-07\n",
      "\n",
      "BzMasked DJ TOTTO feat. Annabel - Kanata No Reflesia Ar9.5 2018-06-23\n",
      "\n",
      "BzMasked DM Ashura - Allegro Furioso Light Normal 2018-06-16\n",
      "OK\n",
      "\n",
      "BzMasked DM Ashura - Allegro Furioso Light Normal 2018-09-28\n",
      "OK\n",
      "\n",
      "BzMasked Dudu Nobre - A Grande Familia (TV Size) BRASIL 2018-09-28\n",
      "OK\n",
      "\n",
      "BzMasked EMILIA (CV Rie Takahashi) - Stay Alive Leaf's Insane 2017-01-04\n",
      "\n",
      "BzMasked Galileo Galilei - Arashi no Atode Calm 2017-07-22\n",
      "\n",
      "BzMasked GEM - Umiyuri Kaiteitan Kurai aoi Kaitei 2018-01-19\n",
      "\n",
      "BzMasked gmtn. (witch's slave) - furioso melodia Wrath 2017-12-03\n",
      "\n",
      "BzMasked Green Day - Bang Bang Mommy's Little Soldier 2018-04-28\n",
      "\n",
      "BzMasked Green Day - Bang Bang Mommy's Little Soldier 2018-04-29\n",
      "\n",
      "BzMasked Hatsune Miku - Uraomote Lovers CCC-Re 2018-02-11\n",
      "\n",
      "BzMasked Himeringo - Yotsuya-san ni Yoroshiku Winber1's Extreme 2017-08-28\n",
      "Wrong format version\n",
      "\n",
      "BzMasked IAHN - Transform (Original Mix) Aspire 2017-08-28\n",
      "OK\n",
      "OK\n",
      "OK\n",
      "\n",
      "BzMasked Imagine Dragons - Warriors 1000lp challenger 2018-06-16\n",
      "OK\n",
      "\n",
      "BzMasked Imperial Circus Dead Decadence - Uta Himei 2018-04-29\n",
      "\n",
      "BzMasked Imperial Circus Dead Decadence - Yomi yori Kikoyu, Koukoku no Tou to Honoo no Shoujo. Reverberation 2017-11-13\n",
      "\n",
      "BzMasked Kano - Sukisuki Zecchoushou Lovesickness 2017-11-29\n",
      "\n",
      "BzMasked Lily - Scarlet Rose 0108 style 2017-07-30\n",
      "Wrong format version\n",
      "\n",
      "BzMasked mafumafu - Heart no Atoaji VINXIS' Extra 2017-12-02\n",
      "OK\n",
      "\n",
      "BzMasked nameless - Milk Crown on Sonnetica byfar's Extra 2017-11-16\n",
      "\n",
      "BzMasked Nhato - Ibuki Second Wind 2017-09-17\n",
      "\n",
      "BzMasked nowisee - confusion Shira's Expert 2018-09-26\n",
      "\n",
      "BzMasked Panda Eyes & Teminite - Highscore Extra 2017-12-02\n",
      "\n",
      "BzMasked Reji - A Young Girl, So Vivid in the Night Honest or Liar 2018-02-11\n",
      "OK\n",
      "\n",
      "BzMasked Sakuzyo - Imprinting Arles AR9.5 2018-03-12\n",
      "OK\n",
      "\n",
      "BzMasked Sakuzyo - Imprinting Arles AR9.5 2018-12-17\n",
      "OK\n",
      "\n",
      "BzMasked Seiryu - AO-Infinity Refraction 2018-12-17\n",
      "\n",
      "BzMasked Seiryu - BLUE DRAGON Kyshiro's Extra 2017-12-02\n",
      "\n",
      "BzMasked Sex Whales & Fraxo - Dead To Me (feat. Lox Chatterbox) extrad1881 (ar 10) 2017-09-24\n",
      "\n",
      "BzMasked Sleeping With Sirens - If You Can't Hang Bearizm's Extreme 2018-04-29\n",
      "\n",
      "BzMasked Suzuki Konomi - Redo Hard 2017-01-04\n",
      "\n",
      "BzMasked Suzuki Konomi - This game (TV Size) Nyquill's Insane Game 2017-02-01\n",
      "Wrong format version\n",
      "\n",
      "BzMasked The Quick Brown Fox - The Big Black WHO'S AFRAID OF THE BIG BLACK 2017-07-16\n",
      "Wrong format version\n",
      "\n",
      "BzMasked Tonight Alive - Little Lion Man pishi's Extra 2018-08-25\n",
      "OK\n",
      "\n",
      "BzMasked UNDEAD CORPORATION - Yoru Naku Usagi wa Yume o Miru Madness 2018-11-05\n",
      "\n",
      "BzMasked Utsu-P - TRAUMATIC EXTREME 2018-12-17\n",
      "OK\n",
      "\n",
      "BzMasked Yunomi - Mentai Cosmic AmamiyaNathan225's Collab 2017-10-29\n",
      "\n",
      "BzMasked Yunomi - Mentai Cosmic AmamiyaNathan225's Collab 2018-09-26\n",
      "\n",
      "BzMasked Zekk - Calling Iridescent 2018-04-15\n",
      "OK\n",
      "\n"
     ]
    }
   ],
   "source": [
    "import osu.replay\n",
    "import re\n",
    "\n",
    "from glob import glob\n",
    "\n",
    "replay_training_set = []\n",
    "\n",
    "pattern = os.path.join(OSU_FOLDER, \"Replays\", \"* Osu.osr\")\n",
    "for replay_file in glob(pattern):\n",
    "    info = re.search(r\"([^\\\\/]+) \\- (.+ \\- .+) \\[(.+)\\] \\((.+)\\)\", replay_file)\n",
    "    player, bmap, diff, date = info[1], info[2], info[3], info[4]\n",
    "    print(player, bmap, diff, date)\n",
    "    \n",
    "    fpat = os.path.join(OSU_FOLDER, \"Songs\", \"*\" + bmap + \"*\", \"*[[]\" + diff + \"[]].osu\")\n",
    "    \n",
    "    for beatmap_file in glob(fpat):\n",
    "        beatmap = osu.beatmap.load(beatmap_file)\n",
    "        if re.search(\"v14\", beatmap.format_version) != None:\n",
    "            replay = osu.replay.load(replay_file)\n",
    "            if len(replay.data) < 10000:\n",
    "                replay_training_set.append([beatmap, replay])\n",
    "                print(\"OK\")\n",
    "        else:\n",
    "            print(\"Wrong format version\")\n",
    "            \n",
    "    print()\n",
    "    "
   ]
  },
  {
   "cell_type": "markdown",
   "metadata": {},
   "source": [
    "## Finalmente: Modelo de rede neural\n",
    "\n",
    "Agora começa a festa..."
   ]
  },
  {
   "cell_type": "code",
   "execution_count": null,
   "metadata": {},
   "outputs": [
    {
     "name": "stdout",
     "output_type": "stream",
     "text": [
      "(16, 9955, 3) (16, 9955, 2)\n"
     ]
    }
   ],
   "source": [
    "from osu.learn.OsuLearnModel import create_training_data, create_target_data\n",
    "from keras.models import Model, Sequential\n",
    "from keras.layers import Dense, Dropout, Activation, CuDNNLSTM, concatenate, Input, Reshape, Conv1D, UpSampling1D\n",
    "\n",
    "REPLAY_FEATURES = ['x', 'y']\n",
    "MAP_FEATURES = ['x', 'y', 'time_left']\n",
    "\n",
    "X = create_training_data(replay_training_set)\n",
    "y = create_target_data(replay_training_set)\n",
    "\n",
    "print(X.shape, y.shape)"
   ]
  },
  {
   "cell_type": "code",
   "execution_count": null,
   "metadata": {},
   "outputs": [
    {
     "name": "stdout",
     "output_type": "stream",
     "text": [
      "_________________________________________________________________\n",
      "Layer (type)                 Output Shape              Param #   \n",
      "=================================================================\n",
      "map_info (InputLayer)        (None, 9955, 3)           0         \n",
      "_________________________________________________________________\n",
      "cu_dnnlstm_1 (CuDNNLSTM)     (None, 9955, 3)           96        \n",
      "_________________________________________________________________\n",
      "conv1d_1 (Conv1D)            (None, 1, 256)            7645696   \n",
      "_________________________________________________________________\n",
      "dense_1 (Dense)              (None, 1, 19910)          5116870   \n",
      "_________________________________________________________________\n",
      "dropout_1 (Dropout)          (None, 1, 19910)          0         \n",
      "_________________________________________________________________\n",
      "reshape_1 (Reshape)          (None, 9955, 2)           0         \n",
      "=================================================================\n",
      "Total params: 12,762,662\n",
      "Trainable params: 12,762,662\n",
      "Non-trainable params: 0\n",
      "_________________________________________________________________\n"
     ]
    }
   ],
   "source": [
    "DROPOUT_RATE = 0.2\n",
    "\n",
    "model = Sequential()\n",
    "\n",
    "map_input = Input(shape=(X.shape[1], X.shape[2]), name='map_info')\n",
    "\n",
    "#replay_input = Input(shape=(y.shape[1], y.shape[2]), name='replay_info')\n",
    "\n",
    "#dense = Dense(y.shape[1] * len(REPLAY_FEATURES), activation='linear')(dense)\n",
    "\n",
    "#out = Dense(64, activation='linear')(concatenate([lstm, dense]))\n",
    "#out = Reshape([len(MAP_FEATURES) * len(REPLAY_FEATURES)])(out)\n",
    "\n",
    "out = CuDNNLSTM(len(MAP_FEATURES), return_sequences=True)(map_input)\n",
    "out = Conv1D(256, X.shape[1], activation='linear')(out)\n",
    "\n",
    "out = Dense(X.shape[1] * len(REPLAY_FEATURES), activation='linear')(out)\n",
    "out = Dropout(DROPOUT_RATE)(out)\n",
    "\n",
    "out = Reshape([X.shape[1], len(REPLAY_FEATURES)])(out)\n",
    "\n",
    "model = Model(inputs=map_input, outputs=out)\n",
    "# model.add(Dropout(DROPOUT_RATE))\n",
    "\n",
    "# model.add(Dense(256, activation='relu'))\n",
    "# model.add(Dropout(DROPOUT_RATE))\n",
    "\n",
    "# model.add(Dense(512, activation='relu'))\n",
    "# model.add(Dropout(DROPOUT_RATE))\n",
    "\n",
    "# model.add(Dense(256, activation='relu'))\n",
    "# model.add(Dropout(DROPOUT_RATE))\n",
    "\n",
    "# model.add(Dense(128, activation='relu'))\n",
    "# model.add(Dropout(DROPOUT_RATE))\n",
    "\n",
    "#model.add(Dense(len(REPLAY_FEATURES), activation='relu'))\n",
    "\n",
    "model.compile(optimizer='adam', loss='mse', metrics=['accuracy'])\n",
    "model.summary()"
   ]
  },
  {
   "cell_type": "code",
   "execution_count": null,
   "metadata": {},
   "outputs": [],
   "source": [
    "def plot_info(compare):\n",
    "    %matplotlib inline\n",
    "    \n",
    "    for data in compare:\n",
    "        plt.plot([(x) for x, y in data])\n",
    "    plt.show()\n",
    "    \n",
    "    for data in compare:\n",
    "        plt.plot([(y) for x, y in data])\n",
    "    plt.show()\n",
    "    \n",
    "#     for data in compare:\n",
    "#         plt.plot([(a) for distance, angle in data])\n",
    "#     plt.show()\n",
    "    \n",
    "#     for data in compare:\n",
    "#         plt.plot([(b) for distance, angle in data])\n",
    "    plt.show()"
   ]
  },
  {
   "cell_type": "code",
   "execution_count": null,
   "metadata": {
    "scrolled": false
   },
   "outputs": [
    {
     "name": "stdout",
     "output_type": "stream",
     "text": [
      "Epoch 1/128\n",
      "16/16 [==============================] - 6s 352ms/step - loss: 0.2247 - acc: 0.5055\n",
      "Epoch 2/128\n",
      "16/16 [==============================] - 1s 65ms/step - loss: 0.2178 - acc: 0.5152\n",
      "Epoch 3/128\n",
      "16/16 [==============================] - 1s 65ms/step - loss: 0.1908 - acc: 0.5172\n",
      "Epoch 4/128\n",
      "16/16 [==============================] - 1s 65ms/step - loss: 0.1460 - acc: 0.5285\n",
      "Epoch 5/128\n",
      "16/16 [==============================] - 1s 67ms/step - loss: 0.1634 - acc: 0.5429\n",
      "Epoch 6/128\n",
      "16/16 [==============================] - 1s 65ms/step - loss: 0.1428 - acc: 0.5506\n",
      "Epoch 7/128\n",
      "16/16 [==============================] - 1s 64ms/step - loss: 0.1210 - acc: 0.5557\n",
      "Epoch 8/128\n",
      "16/16 [==============================] - 1s 64ms/step - loss: 0.1298 - acc: 0.5592\n",
      "Epoch 9/128\n",
      "16/16 [==============================] - 1s 64ms/step - loss: 0.1243 - acc: 0.5658\n",
      "Epoch 10/128\n",
      "16/16 [==============================] - 1s 63ms/step - loss: 0.1134 - acc: 0.5691\n",
      "Epoch 11/128\n",
      "16/16 [==============================] - 1s 64ms/step - loss: 0.1004 - acc: 0.5680\n",
      "Epoch 12/128\n",
      "16/16 [==============================] - 1s 65ms/step - loss: 0.0988 - acc: 0.5698\n",
      "Epoch 13/128\n",
      "16/16 [==============================] - 1s 65ms/step - loss: 0.0987 - acc: 0.5778\n"
     ]
    }
   ],
   "source": [
    "history = model.fit(X, y, batch_size=64, epochs=32)"
   ]
  },
  {
   "cell_type": "code",
   "execution_count": null,
   "metadata": {},
   "outputs": [],
   "source": [
    "%matplotlib inline\n",
    "\n",
    "plt.plot(history.history['acc'])\n",
    "plt.show()\n",
    "\n",
    "plt.plot(history.history['loss'])\n",
    "plt.show()"
   ]
  },
  {
   "cell_type": "code",
   "execution_count": null,
   "metadata": {},
   "outputs": [],
   "source": [
    "predicted = model.predict(X)\n",
    "\n",
    "for i in range(len(y)):\n",
    "    plot_info([y[i], predicted[i]])"
   ]
  },
  {
   "cell_type": "code",
   "execution_count": null,
   "metadata": {},
   "outputs": [],
   "source": [
    "%matplotlib notebook\n",
    "\n",
    "replay_data = []\n",
    "\n",
    "j = 0\n",
    "for i in range(len(predicted[0])):\n",
    "    if len(replay_training_set[0][1].data) > i + j:\n",
    "        w = replay_training_set[0][1].data[i + j][0]\n",
    "        while w < 0 and len(replay_training_set[0][1].data) > i + j + 1:\n",
    "            j += 1\n",
    "            w = replay_training_set[0][1].data[i + j][0]\n",
    "    else:\n",
    "        w = 0\n",
    "    cx, cy = predicted[0][i]\n",
    "    replay_data.append([w, cx * 512, cy * 384, 0])\n",
    "    \n",
    "#osu.replay.preview(replay_training_set[0][0], replay_data)"
   ]
  },
  {
   "cell_type": "markdown",
   "metadata": {},
   "source": [
    "## "
   ]
  }
 ],
 "metadata": {
  "kernelspec": {
   "display_name": "Python 3",
   "language": "python",
   "name": "python3"
  },
  "language_info": {
   "codemirror_mode": {
    "name": "ipython",
    "version": 3
   },
   "file_extension": ".py",
   "mimetype": "text/x-python",
   "name": "python",
   "nbconvert_exporter": "python",
   "pygments_lexer": "ipython3",
   "version": "3.6.2"
  }
 },
 "nbformat": 4,
 "nbformat_minor": 2
}
