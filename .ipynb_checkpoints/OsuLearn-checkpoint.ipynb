{
 "cells": [
  {
   "cell_type": "markdown",
   "metadata": {},
   "source": [
    "# OsuLearn\n",
    "##### Machine Learning para jogar mapas de osu!\n",
    "\n",
    "^^^\n",
    "\n",
    "Isso aí, tô sem mais nada pra fazer, bora criar uma IA que joga osu! )o)"
   ]
  },
  {
   "cell_type": "markdown",
   "metadata": {},
   "source": [
    "## Importar umas coisas..."
   ]
  },
  {
   "cell_type": "code",
   "execution_count": 1,
   "metadata": {},
   "outputs": [
    {
     "name": "stderr",
     "output_type": "stream",
     "text": [
      "Using TensorFlow backend.\n"
     ]
    }
   ],
   "source": [
    "# Machine Learning\n",
    "import tensorflow as tf\n",
    "import keras\n",
    "import numpy as np\n",
    "import pandas as pd\n",
    "\n",
    "# Plotagem\n",
    "import matplotlib.pyplot as plt\n",
    "\n",
    "# Utilidades\n",
    "import os\n",
    "import math"
   ]
  },
  {
   "cell_type": "markdown",
   "metadata": {},
   "source": [
    "## Constantes\n",
    "\n",
    "Aqui tem uns caminhos para os arquivos que precisamos:"
   ]
  },
  {
   "cell_type": "code",
   "execution_count": 2,
   "metadata": {},
   "outputs": [],
   "source": [
    "# Pasta do osu!\n",
    "OSU_FOLDER = \"C:\\\\\" + os.path.join(\"Program Files (x86)\", \"Jogos\", \"osu!\")\n",
    "\n",
    "# Nome do beatmap\n",
    "BEATMAP = os.path.join('499478 Utsu-P - TRAUMATIC', 'Utsu-P - TRAUMATIC (Cryptic) [EXTREME].osu')\n",
    "#BEATMAP = os.path.join('353412 Sakuzyo - Imprinting', 'Sakuzyo - Imprinting (Necroluttah) [Arles AR9.5].osu')\n",
    "\n",
    "# Nome do arquivo de replay\n",
    "REPLAY = 'BzMasked - Utsu-P - TRAUMATIC [EXTREME] (2018-12-17) Osu.osr'\n",
    "#REPLAY = 'BzMasked - Sakuzyo - Imprinting [Arles AR9.5] (2018-12-17) Osu.osr'"
   ]
  },
  {
   "cell_type": "markdown",
   "metadata": {},
   "source": [
    "## Leitura do arquivo de Beatmap\n",
    "\n",
    "O formato do arquivo está especificado no [site do osu!](https://osu.ppy.sh/help/wiki/osu!_File_Formats/Osu_(file_format)/)."
   ]
  },
  {
   "cell_type": "code",
   "execution_count": 3,
   "metadata": {},
   "outputs": [
    {
     "name": "stdout",
     "output_type": "stream",
     "text": [
      "\n",
      "Mapa: 鬱P - TRAUMATIC\n",
      "Autor: Cryptic\n",
      "Dificuldade:  EXTREME\n"
     ]
    }
   ],
   "source": [
    "import osu.beatmap\n",
    "\n",
    "beatmap_filename = os.path.join(OSU_FOLDER, \"Songs\", BEATMAP)\n",
    "beatmap = osu.beatmap.load(beatmap_filename)\n",
    "\n",
    "print()\n",
    "print('Mapa:', beatmap['ArtistUnicode'], '-', beatmap['TitleUnicode'])\n",
    "print('Autor:', beatmap['Creator'])\n",
    "print('Dificuldade: ', beatmap['Version'])"
   ]
  },
  {
   "cell_type": "markdown",
   "metadata": {},
   "source": [
    "## Leitura do arquivo de Replay\n",
    "\n",
    "O formato do arquivo está especificado no [site do osu!](https://osu.ppy.sh/help/wiki/osu!_File_Formats/Osr_(file_format)/)."
   ]
  },
  {
   "cell_type": "code",
   "execution_count": 4,
   "metadata": {},
   "outputs": [],
   "source": [
    "import osu.replay\n",
    "\n",
    "replay = osu.replay.load(os.path.join(OSU_FOLDER, \"Replays\", REPLAY))"
   ]
  },
  {
   "cell_type": "markdown",
   "metadata": {},
   "source": [
    "## Informações do Replay\n",
    "\n",
    "Legal, carregamos o replay, isso foi o que achamos:"
   ]
  },
  {
   "cell_type": "code",
   "execution_count": 5,
   "metadata": {
    "scrolled": true
   },
   "outputs": [
    {
     "name": "stdout",
     "output_type": "stream",
     "text": [
      "\n",
      "Player: BzMasked\n",
      "\n",
      "Pontuação Total: 417246\n",
      "\n",
      "  137 x 300\t   52 x 激\n",
      "    6 x 100\t    6 x 喝\n",
      "    1 x 50\t    1 x Erros\n",
      "\n",
      "Acurácia: 95.98%\n",
      "Combo Máximo: 138x \n",
      "\n"
     ]
    },
    {
     "data": {
      "image/png": "[encoded data removed]",
      "text/plain": [
       "<Figure size 432x288 with 1 Axes>"
      ]
     },
     "metadata": {},
     "output_type": "display_data"
    }
   ],
   "source": [
    "print()\n",
    "print(\"Player:\", replay.player)\n",
    "\n",
    "print()\n",
    "print(\"Pontuação Total:\", replay.score)\n",
    "print()\n",
    "print(\"%5d x 300\\t%5d x 激\" % (replay.n_300s, replay.n_geki))\n",
    "print(\"%5d x 100\\t%5d x 喝\" % (replay.n_100s, replay.n_katu))\n",
    "print(\"%5d x 50\\t%5d x Erros\" % (replay.n_50s, replay.n_misses))\n",
    "print()\n",
    "\n",
    "print(\"Acurácia: %.2f%%\" % (100 * replay.accuracy))\n",
    "print(\"Combo Máximo: %dx\" % replay.max_combo, \"(Perfect)\" if replay.perfect else \"\")\n",
    "print()\n",
    "\n",
    "%matplotlib inline\n",
    "\n",
    "u = [int(t[0]) / 1000 for t in replay.life_graph]\n",
    "v = [float(t[1]) for t in replay.life_graph]\n",
    "\n",
    "fig = plt.figure(facecolor='#333333')\n",
    "ax = fig.add_subplot(1, 1, 1)\n",
    "ax.set_xlim(0, max(u) + 1)\n",
    "ax.set_ylim(0, 1.1)\n",
    "ax.axis('off')\n",
    "ax.plot(u, v, '#ffcc22')\n",
    "plt.show()"
   ]
  },
  {
   "cell_type": "markdown",
   "metadata": {},
   "source": [
    "## Visualização\n",
    "\n",
    "Aqui temos uma previsualização do replay, também:"
   ]
  },
  {
   "cell_type": "code",
   "execution_count": 6,
   "metadata": {},
   "outputs": [],
   "source": [
    "%matplotlib notebook\n",
    "#osu.replay.preview(beatmap, replay)"
   ]
  },
  {
   "cell_type": "markdown",
   "metadata": {},
   "source": [
    "## Dados para treinamento..."
   ]
  },
  {
   "cell_type": "code",
   "execution_count": 10,
   "metadata": {},
   "outputs": [
    {
     "name": "stdout",
     "output_type": "stream",
     "text": [
      "C:\\Program Files (x86)\\Jogos\\osu!\\Replays\\BzMasked - Utsu-P - TRAUMATIC [EXTREME] (2018-12-17) Osu - Copia (2).osr\n",
      "C:\\Program Files (x86)\\Jogos\\osu!\\Replays\\BzMasked - Utsu-P - TRAUMATIC [EXTREME] (2018-12-17) Osu - Copia (3).osr\n",
      "C:\\Program Files (x86)\\Jogos\\osu!\\Replays\\BzMasked - Utsu-P - TRAUMATIC [EXTREME] (2018-12-17) Osu - Copia (4).osr\n",
      "C:\\Program Files (x86)\\Jogos\\osu!\\Replays\\BzMasked - Utsu-P - TRAUMATIC [EXTREME] (2018-12-17) Osu - Copia (5).osr\n",
      "C:\\Program Files (x86)\\Jogos\\osu!\\Replays\\BzMasked - Utsu-P - TRAUMATIC [EXTREME] (2018-12-17) Osu - Copia (6).osr\n",
      "C:\\Program Files (x86)\\Jogos\\osu!\\Replays\\BzMasked - Utsu-P - TRAUMATIC [EXTREME] (2018-12-17) Osu - Copia (7).osr\n",
      "C:\\Program Files (x86)\\Jogos\\osu!\\Replays\\BzMasked - Utsu-P - TRAUMATIC [EXTREME] (2018-12-17) Osu - Copia (8).osr\n",
      "C:\\Program Files (x86)\\Jogos\\osu!\\Replays\\BzMasked - Utsu-P - TRAUMATIC [EXTREME] (2018-12-17) Osu - Copia (9).osr\n",
      "C:\\Program Files (x86)\\Jogos\\osu!\\Replays\\BzMasked - Utsu-P - TRAUMATIC [EXTREME] (2018-12-17) Osu - Copia.osr\n",
      "C:\\Program Files (x86)\\Jogos\\osu!\\Replays\\BzMasked - Utsu-P - TRAUMATIC [EXTREME] (2018-12-17) Osu.osr\n",
      "C:\\Program Files (x86)\\Jogos\\osu!\\Replays\\replay-osu_1161448_2261364621.osr.TRAUMATIC EXTREME.osr\n",
      "C:\\Program Files (x86)\\Jogos\\osu!\\Replays\\replay-osu_1161448_2288974015.osr.TRAUMATIC EXTREME.osr\n",
      "C:\\Program Files (x86)\\Jogos\\osu!\\Replays\\replay-osu_1161448_2306879051.osr.TRAUMATIC EXTREME.osr\n",
      "C:\\Program Files (x86)\\Jogos\\osu!\\Replays\\replay-osu_1161448_2503566400.osr.TRAUMATIC EXTREME.osr\n",
      "C:\\Program Files (x86)\\Jogos\\osu!\\Replays\\replay-osu_1161448_2616120971.osr.TRAUMATIC EXTREME.osr\n",
      "C:\\Program Files (x86)\\Jogos\\osu!\\Replays\\replay-osu_1161448_2635164255.osr.TRAUMATIC EXTREME.osr\n",
      "C:\\Program Files (x86)\\Jogos\\osu!\\Replays\\replay-osu_1161448_2682284350.osr.TRAUMATIC EXTREME.osr\n",
      "C:\\Program Files (x86)\\Jogos\\osu!\\Replays\\replay-osu_1161448_2695284324.osr.TRAUMATIC EXTREME.osr\n"
     ]
    }
   ],
   "source": [
    "def convert(data):\n",
    "    targets = []\n",
    "    result = []\n",
    "    expected = []\n",
    "    sqrt2 = math.sqrt(2)\n",
    "    preempt, fadein = beatmap.approach_rate()\n",
    "    \n",
    "    t = 0\n",
    "    last = None\n",
    "    for r in data:\n",
    "        w, x, y, z = r\n",
    "        \n",
    "        if w > 0:\n",
    "            t += w\n",
    "        else:\n",
    "            continue\n",
    "        \n",
    "        objects = beatmap.visible_objects(t)\n",
    "        \n",
    "        if len(objects) == 0:\n",
    "            continue\n",
    "            \n",
    "        next_object = objects[0]\n",
    "        for obj in objects[1:]:\n",
    "            if t > obj[2] + preempt:\n",
    "                break\n",
    "            next_object = obj\n",
    "            \n",
    "        if not last is None:\n",
    "            dx = x - last[1]\n",
    "            dy = last[2] - y\n",
    "            \n",
    "            distance = math.sqrt(dx ** 2 + dy ** 2) / (512 * sqrt2)\n",
    "            \n",
    "            if dx == 0:\n",
    "                angle = 0 if dy == 0 else [math.pi / 2, -math.pi / 2][dy < 0]\n",
    "            else:\n",
    "                angle = math.atan(dy / dx)\n",
    "            angle /= (2 * math.pi)\n",
    "            \n",
    "            left_click = z & 1\n",
    "            right_click = (z & 2) >> 1\n",
    "            expected.append(np.array([next_object[2] + preempt - t - w, distance, angle, left_click, right_click]))\n",
    "        \n",
    "        last = r\n",
    "        \n",
    "        dx = x - next_object[0]\n",
    "        dy = next_object[1] - y\n",
    "        distance = math.sqrt(dx ** 2 + dy ** 2) / (512 * sqrt2)\n",
    "        \n",
    "        if dx == 0:\n",
    "            angle = 0 if dy == 0 else [math.pi / 2, -math.pi / 2][dy < 0]\n",
    "        else:\n",
    "            angle = math.atan(dy / dx)\n",
    "        angle /= (2 * math.pi)\n",
    "            \n",
    "        left_click = z & 1\n",
    "        right_click = (z & 2) >> 1\n",
    "        \n",
    "        targets.append(w)\n",
    "        result.append(np.array([next_object[2] + preempt - t, distance, angle, left_click, right_click]))\n",
    "        \n",
    "    expected.append(np.array([0, 0, 0, 0, 0]))\n",
    "    \n",
    "    return np.array(result), np.array(targets), np.array(expected)\n",
    "\n",
    "from keras.preprocessing.sequence import pad_sequences\n",
    "from sklearn.model_selection import train_test_split\n",
    "\n",
    "pattern = os.path.join(OSU_FOLDER, \"Replays\", \"*TRAUMATIC*EXTREME*.osr\")\n",
    "X = []\n",
    "Y = []\n",
    "\n",
    "from glob import glob\n",
    "\n",
    "for file in glob(pattern):\n",
    "    print(file)\n",
    "    replay = osu.replay.load(file)\n",
    "    data, targets, expected = convert(replay.data)\n",
    "    X.append(data)\n",
    "    Y.append(expected)\n",
    "    \n",
    "X = np.array(X)\n",
    "Y = np.array(Y)\n",
    "X = pad_sequences(X)\n",
    "Y = pad_sequences(Y)\n",
    "\n",
    "X_train, X_valid, Y_train, Y_valid = train_test_split(X, Y, test_size = 0.20, random_state = 36)\n",
    "#X_train = np.reshape(X_train, (X_train.shape[0], 2202, 5))"
   ]
  },
  {
   "cell_type": "markdown",
   "metadata": {},
   "source": [
    "## Finalmente: Modelo de rede neural LSTM\n",
    "\n",
    "Agora começa a festa..."
   ]
  },
  {
   "cell_type": "code",
   "execution_count": 11,
   "metadata": {},
   "outputs": [
    {
     "name": "stdout",
     "output_type": "stream",
     "text": [
      "WARNING:tensorflow:From c:\\users\\user\\appdata\\local\\programs\\python\\python36\\lib\\site-packages\\keras\\backend\\tensorflow_backend.py:1247: calling reduce_sum (from tensorflow.python.ops.math_ops) with keep_dims is deprecated and will be removed in a future version.\n",
      "Instructions for updating:\n",
      "keep_dims is deprecated, use keepdims instead\n",
      "WARNING:tensorflow:From c:\\users\\user\\appdata\\local\\programs\\python\\python36\\lib\\site-packages\\keras\\backend\\tensorflow_backend.py:1213: calling reduce_max (from tensorflow.python.ops.math_ops) with keep_dims is deprecated and will be removed in a future version.\n",
      "Instructions for updating:\n",
      "keep_dims is deprecated, use keepdims instead\n",
      "WARNING:tensorflow:From c:\\users\\user\\appdata\\local\\programs\\python\\python36\\lib\\site-packages\\keras\\backend\\tensorflow_backend.py:1349: calling reduce_mean (from tensorflow.python.ops.math_ops) with keep_dims is deprecated and will be removed in a future version.\n",
      "Instructions for updating:\n",
      "keep_dims is deprecated, use keepdims instead\n",
      "_________________________________________________________________\n",
      "Layer (type)                 Output Shape              Param #   \n",
      "=================================================================\n",
      "lstm_1 (LSTM)                (None, 2205, 8)           448       \n",
      "_________________________________________________________________\n",
      "dense_1 (Dense)              (None, 2205, 5)           45        \n",
      "=================================================================\n",
      "Total params: 493\n",
      "Trainable params: 493\n",
      "Non-trainable params: 0\n",
      "_________________________________________________________________\n",
      "None\n"
     ]
    }
   ],
   "source": [
    "from keras.layers import LSTM, Embedding, Dense, Flatten\n",
    "\n",
    "model = keras.models.Sequential()\n",
    "model.add(LSTM(8, input_shape=(X_train.shape[1], 5), return_sequences=True))\n",
    "model.add(Dense(5, activation='softmax'))\n",
    "model.compile(loss='categorical_crossentropy', optimizer='adam', metrics = ['accuracy'])\n",
    "print(model.summary())"
   ]
  },
  {
   "cell_type": "code",
   "execution_count": 12,
   "metadata": {},
   "outputs": [
    {
     "ename": "ValueError",
     "evalue": "Error when checking target: expected dense_1 to have shape (None, 2205, 5) but got array with shape (14, 2205, 4)",
     "output_type": "error",
     "traceback": [
      "\u001b[1;31m---------------------------------------------------------------------------\u001b[0m",
      "\u001b[1;31mValueError\u001b[0m                                Traceback (most recent call last)",
      "\u001b[1;32m<ipython-input-12-e55e4316d632>\u001b[0m in \u001b[0;36m<module>\u001b[1;34m\u001b[0m\n\u001b[1;32m----> 1\u001b[1;33m \u001b[0mmodel\u001b[0m\u001b[1;33m.\u001b[0m\u001b[0mfit\u001b[0m\u001b[1;33m(\u001b[0m\u001b[0mX_train\u001b[0m\u001b[1;33m,\u001b[0m \u001b[0mY_train\u001b[0m\u001b[1;33m,\u001b[0m \u001b[0mbatch_size\u001b[0m\u001b[1;33m=\u001b[0m\u001b[1;36m256\u001b[0m\u001b[1;33m,\u001b[0m \u001b[0mepochs\u001b[0m\u001b[1;33m=\u001b[0m\u001b[1;36m100\u001b[0m\u001b[1;33m)\u001b[0m\u001b[1;33m\u001b[0m\u001b[0m\n\u001b[0m",
      "\u001b[1;32mc:\\users\\user\\appdata\\local\\programs\\python\\python36\\lib\\site-packages\\keras\\models.py\u001b[0m in \u001b[0;36mfit\u001b[1;34m(self, x, y, batch_size, epochs, verbose, callbacks, validation_split, validation_data, shuffle, class_weight, sample_weight, initial_epoch, steps_per_epoch, validation_steps, **kwargs)\u001b[0m\n\u001b[0;32m    958\u001b[0m                               \u001b[0minitial_epoch\u001b[0m\u001b[1;33m=\u001b[0m\u001b[0minitial_epoch\u001b[0m\u001b[1;33m,\u001b[0m\u001b[1;33m\u001b[0m\u001b[0m\n\u001b[0;32m    959\u001b[0m                               \u001b[0msteps_per_epoch\u001b[0m\u001b[1;33m=\u001b[0m\u001b[0msteps_per_epoch\u001b[0m\u001b[1;33m,\u001b[0m\u001b[1;33m\u001b[0m\u001b[0m\n\u001b[1;32m--> 960\u001b[1;33m                               validation_steps=validation_steps)\n\u001b[0m\u001b[0;32m    961\u001b[0m \u001b[1;33m\u001b[0m\u001b[0m\n\u001b[0;32m    962\u001b[0m     def evaluate(self, x, y, batch_size=32, verbose=1,\n",
      "\u001b[1;32mc:\\users\\user\\appdata\\local\\programs\\python\\python36\\lib\\site-packages\\keras\\engine\\training.py\u001b[0m in \u001b[0;36mfit\u001b[1;34m(self, x, y, batch_size, epochs, verbose, callbacks, validation_split, validation_data, shuffle, class_weight, sample_weight, initial_epoch, steps_per_epoch, validation_steps, **kwargs)\u001b[0m\n\u001b[0;32m   1579\u001b[0m             \u001b[0mclass_weight\u001b[0m\u001b[1;33m=\u001b[0m\u001b[0mclass_weight\u001b[0m\u001b[1;33m,\u001b[0m\u001b[1;33m\u001b[0m\u001b[0m\n\u001b[0;32m   1580\u001b[0m             \u001b[0mcheck_batch_axis\u001b[0m\u001b[1;33m=\u001b[0m\u001b[1;32mFalse\u001b[0m\u001b[1;33m,\u001b[0m\u001b[1;33m\u001b[0m\u001b[0m\n\u001b[1;32m-> 1581\u001b[1;33m             batch_size=batch_size)\n\u001b[0m\u001b[0;32m   1582\u001b[0m         \u001b[1;31m# Prepare validation data.\u001b[0m\u001b[1;33m\u001b[0m\u001b[1;33m\u001b[0m\u001b[0m\n\u001b[0;32m   1583\u001b[0m         \u001b[0mdo_validation\u001b[0m \u001b[1;33m=\u001b[0m \u001b[1;32mFalse\u001b[0m\u001b[1;33m\u001b[0m\u001b[0m\n",
      "\u001b[1;32mc:\\users\\user\\appdata\\local\\programs\\python\\python36\\lib\\site-packages\\keras\\engine\\training.py\u001b[0m in \u001b[0;36m_standardize_user_data\u001b[1;34m(self, x, y, sample_weight, class_weight, check_batch_axis, batch_size)\u001b[0m\n\u001b[0;32m   1416\u001b[0m                                     \u001b[0moutput_shapes\u001b[0m\u001b[1;33m,\u001b[0m\u001b[1;33m\u001b[0m\u001b[0m\n\u001b[0;32m   1417\u001b[0m                                     \u001b[0mcheck_batch_axis\u001b[0m\u001b[1;33m=\u001b[0m\u001b[1;32mFalse\u001b[0m\u001b[1;33m,\u001b[0m\u001b[1;33m\u001b[0m\u001b[0m\n\u001b[1;32m-> 1418\u001b[1;33m                                     exception_prefix='target')\n\u001b[0m\u001b[0;32m   1419\u001b[0m         sample_weights = _standardize_sample_weights(sample_weight,\n\u001b[0;32m   1420\u001b[0m                                                      self._feed_output_names)\n",
      "\u001b[1;32mc:\\users\\user\\appdata\\local\\programs\\python\\python36\\lib\\site-packages\\keras\\engine\\training.py\u001b[0m in \u001b[0;36m_standardize_input_data\u001b[1;34m(data, names, shapes, check_batch_axis, exception_prefix)\u001b[0m\n\u001b[0;32m    151\u001b[0m                             \u001b[1;34m' to have shape '\u001b[0m \u001b[1;33m+\u001b[0m \u001b[0mstr\u001b[0m\u001b[1;33m(\u001b[0m\u001b[0mshapes\u001b[0m\u001b[1;33m[\u001b[0m\u001b[0mi\u001b[0m\u001b[1;33m]\u001b[0m\u001b[1;33m)\u001b[0m \u001b[1;33m+\u001b[0m\u001b[1;33m\u001b[0m\u001b[0m\n\u001b[0;32m    152\u001b[0m                             \u001b[1;34m' but got array with shape '\u001b[0m \u001b[1;33m+\u001b[0m\u001b[1;33m\u001b[0m\u001b[0m\n\u001b[1;32m--> 153\u001b[1;33m                             str(array.shape))\n\u001b[0m\u001b[0;32m    154\u001b[0m     \u001b[1;32mreturn\u001b[0m \u001b[0marrays\u001b[0m\u001b[1;33m\u001b[0m\u001b[0m\n\u001b[0;32m    155\u001b[0m \u001b[1;33m\u001b[0m\u001b[0m\n",
      "\u001b[1;31mValueError\u001b[0m: Error when checking target: expected dense_1 to have shape (None, 2205, 5) but got array with shape (14, 2205, 4)"
     ]
    }
   ],
   "source": [
    "model.fit(X_train, Y_train, batch_size=256, epochs=100)"
   ]
  },
  {
   "cell_type": "code",
   "execution_count": null,
   "metadata": {},
   "outputs": [],
   "source": [
    "data = X[0]\n",
    "print(data[-200], '->', data[-199])\n",
    "\n",
    "pred = model.predict(np.array([data]))[0]\n",
    "print(pred[-200], '->', pred[-199])"
   ]
  },
  {
   "cell_type": "code",
   "execution_count": null,
   "metadata": {},
   "outputs": [],
   "source": []
  }
 ],
 "metadata": {
  "kernelspec": {
   "display_name": "Python 3",
   "language": "python",
   "name": "python3"
  },
  "language_info": {
   "codemirror_mode": {
    "name": "ipython",
    "version": 3
   },
   "file_extension": ".py",
   "mimetype": "text/x-python",
   "name": "python",
   "nbconvert_exporter": "python",
   "pygments_lexer": "ipython3",
   "version": "3.6.2"
  }
 },
 "nbformat": 4,
 "nbformat_minor": 2
}
